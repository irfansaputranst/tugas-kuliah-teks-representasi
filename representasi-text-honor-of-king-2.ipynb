{
 "cells": [
  {
   "cell_type": "markdown",
   "metadata": {
    "id": "Z-rCIo1CrVAN"
   },
   "source": [
    "# **Representasi Text Game Honor of Kings**\n",
    "\n",
    "Honor of Kings adalah sebuah game MOBA yang berbasis Android yang baru diluncurkan secara global. Kami disini dengan perkelompok diantaranya:\n",
    "1. Dimas Fauzan\n",
    "2. Hibatullah Naufal Ramadhan\n",
    "3. Muhammad Ravi\n",
    "4. Irfan Saputra Nasution\n",
    "\n",
    "Akan melalukan representasi ulasan terhadap sebuah game Honor of Kings."
   ]
  },
  {
   "cell_type": "markdown",
   "metadata": {
    "id": "Tyr0XbJZvJhQ"
   },
   "source": [
    "## **Crawling Data**\n",
    "\n",
    "Kami akan melakukan Crawling Data dengan data cara Scrapping Play Store."
   ]
  },
  {
   "cell_type": "code",
   "execution_count": null,
   "metadata": {
    "colab": {
     "base_uri": "https://localhost:8080/"
    },
    "id": "QhrtIt65vgHl",
    "outputId": "96e90952-af1c-4d0f-f328-fa3cfc121c0d"
   },
   "outputs": [],
   "source": [
    "# Melakukan Install Google Play Scrapper.\n",
    "%pip install google-play-scraper"
   ]
  },
  {
   "cell_type": "code",
   "execution_count": 1,
   "metadata": {
    "id": "2cm0j1J9vIwM"
   },
   "outputs": [],
   "source": [
    "# Import Library untuk Scrapping Data   \n",
    "from google_play_scraper import Sort, reviews_all\n",
    "import pandas as pd\n",
    "import matplotlib.pyplot as plt\n",
    "import seaborn as sns"
   ]
  },
  {
   "cell_type": "code",
   "execution_count": null,
   "metadata": {
    "id": "KA-_BjlAvtnQ"
   },
   "outputs": [],
   "source": [
    "# Melakukan Proses Scrapping Data\n",
    "scrapreview= reviews_all(\n",
    "  'com.levelinfinite.sgameGlobal', #ID aplikasi\n",
    "  lang='id', # pengubahan bahasa, defaults to ‘en’\n",
    "  country='id', # pengubahan lokasi, defaults to ‘us’\n",
    "  sort=Sort.MOST_RELEVANT, # defaults to Sort.MOST_RELEVANT\n",
    "  filter_score_with=None # defaults to None (means all score)\n",
    ")"
   ]
  },
  {
   "cell_type": "code",
   "execution_count": null,
   "metadata": {
    "colab": {
     "base_uri": "https://localhost:8080/",
     "height": 200
    },
    "id": "y-j_EgNCwF3L",
    "outputId": "dd627a91-687f-4086-f116-87b9423810b2"
   },
   "outputs": [],
   "source": [
    "# Melakukan Proses Print Scrapping Data\n",
    "print(scrapreview)\n",
    "app_reviews_df = pd.DataFrame(scrapreview)\n",
    "app_reviews_df.to_csv('scrapping-data-hok.csv', index = None, header=True) # Melakukan Export Data menjadi Extention CSV"
   ]
  },
  {
   "cell_type": "code",
   "execution_count": 2,
   "metadata": {
    "colab": {
     "base_uri": "https://localhost:8080/",
     "height": 521
    },
    "id": "tbPz3yhxxAUW",
    "outputId": "22f719d9-673b-47e3-b8d5-3c7ca7c31ae0"
   },
   "outputs": [
    {
     "data": {
      "text/html": [
       "<div>\n",
       "<style scoped>\n",
       "    .dataframe tbody tr th:only-of-type {\n",
       "        vertical-align: middle;\n",
       "    }\n",
       "\n",
       "    .dataframe tbody tr th {\n",
       "        vertical-align: top;\n",
       "    }\n",
       "\n",
       "    .dataframe thead th {\n",
       "        text-align: right;\n",
       "    }\n",
       "</style>\n",
       "<table border=\"1\" class=\"dataframe\">\n",
       "  <thead>\n",
       "    <tr style=\"text-align: right;\">\n",
       "      <th></th>\n",
       "      <th>reviewId</th>\n",
       "      <th>userName</th>\n",
       "      <th>userImage</th>\n",
       "      <th>content</th>\n",
       "      <th>score</th>\n",
       "      <th>thumbsUpCount</th>\n",
       "      <th>reviewCreatedVersion</th>\n",
       "      <th>at</th>\n",
       "      <th>replyContent</th>\n",
       "      <th>repliedAt</th>\n",
       "      <th>appVersion</th>\n",
       "    </tr>\n",
       "  </thead>\n",
       "  <tbody>\n",
       "    <tr>\n",
       "      <th>0</th>\n",
       "      <td>36384958-3fba-4fb1-bf5a-27108bd3d8c4</td>\n",
       "      <td>Pengguna Google</td>\n",
       "      <td>https://play-lh.googleusercontent.com/EGemoI2N...</td>\n",
       "      <td>Dari gw sendiri gamenya udh cukup bagus mulai ...</td>\n",
       "      <td>4</td>\n",
       "      <td>20</td>\n",
       "      <td>10.1.1.1</td>\n",
       "      <td>2024-10-10 20:33:41</td>\n",
       "      <td>NaN</td>\n",
       "      <td>NaN</td>\n",
       "      <td>10.1.1.1</td>\n",
       "    </tr>\n",
       "    <tr>\n",
       "      <th>1</th>\n",
       "      <td>dbf37950-88ff-4f03-b191-244cda31e216</td>\n",
       "      <td>Pengguna Google</td>\n",
       "      <td>https://play-lh.googleusercontent.com/EGemoI2N...</td>\n",
       "      <td>[UPDATE] Sudah lancar kembali setelah update t...</td>\n",
       "      <td>5</td>\n",
       "      <td>102</td>\n",
       "      <td>10.1.1.1</td>\n",
       "      <td>2024-10-11 15:53:09</td>\n",
       "      <td>Halo pemain\\nJika jaringannya stabil, hal ini ...</td>\n",
       "      <td>2024-10-10 08:26:21</td>\n",
       "      <td>10.1.1.1</td>\n",
       "    </tr>\n",
       "    <tr>\n",
       "      <th>2</th>\n",
       "      <td>0995e9ab-939b-43cc-95be-1695329e0858</td>\n",
       "      <td>Pengguna Google</td>\n",
       "      <td>https://play-lh.googleusercontent.com/EGemoI2N...</td>\n",
       "      <td>Menurut pendapat saya game ini cukup bagus cum...</td>\n",
       "      <td>3</td>\n",
       "      <td>16</td>\n",
       "      <td>10.1.1.1</td>\n",
       "      <td>2024-10-10 11:55:13</td>\n",
       "      <td>Hai pemain, \\nTerima kasih atas saran Anda. Ka...</td>\n",
       "      <td>2024-10-10 16:17:08</td>\n",
       "      <td>10.1.1.1</td>\n",
       "    </tr>\n",
       "    <tr>\n",
       "      <th>3</th>\n",
       "      <td>4e7905b7-b1cb-4302-9a1f-54d29df8a513</td>\n",
       "      <td>Pengguna Google</td>\n",
       "      <td>https://play-lh.googleusercontent.com/EGemoI2N...</td>\n",
       "      <td>Suka suka deh. Makin update makin gede mb nya ...</td>\n",
       "      <td>4</td>\n",
       "      <td>3</td>\n",
       "      <td>10.1.1.1</td>\n",
       "      <td>2024-10-12 12:06:10</td>\n",
       "      <td>NaN</td>\n",
       "      <td>NaN</td>\n",
       "      <td>10.1.1.1</td>\n",
       "    </tr>\n",
       "    <tr>\n",
       "      <th>4</th>\n",
       "      <td>c60030f4-6f38-4c32-97bd-f25a8fdba1df</td>\n",
       "      <td>Pengguna Google</td>\n",
       "      <td>https://play-lh.googleusercontent.com/EGemoI2N...</td>\n",
       "      <td>Matchmaking lo Tencent diperbaiki dulu, itu ti...</td>\n",
       "      <td>1</td>\n",
       "      <td>18</td>\n",
       "      <td>10.1.1.1</td>\n",
       "      <td>2024-10-12 16:56:39</td>\n",
       "      <td>Hai pemain,\\nSistem mencoba untuk memasangkan ...</td>\n",
       "      <td>2024-10-12 17:23:49</td>\n",
       "      <td>10.1.1.1</td>\n",
       "    </tr>\n",
       "  </tbody>\n",
       "</table>\n",
       "</div>"
      ],
      "text/plain": [
       "                               reviewId         userName  \\\n",
       "0  36384958-3fba-4fb1-bf5a-27108bd3d8c4  Pengguna Google   \n",
       "1  dbf37950-88ff-4f03-b191-244cda31e216  Pengguna Google   \n",
       "2  0995e9ab-939b-43cc-95be-1695329e0858  Pengguna Google   \n",
       "3  4e7905b7-b1cb-4302-9a1f-54d29df8a513  Pengguna Google   \n",
       "4  c60030f4-6f38-4c32-97bd-f25a8fdba1df  Pengguna Google   \n",
       "\n",
       "                                           userImage  \\\n",
       "0  https://play-lh.googleusercontent.com/EGemoI2N...   \n",
       "1  https://play-lh.googleusercontent.com/EGemoI2N...   \n",
       "2  https://play-lh.googleusercontent.com/EGemoI2N...   \n",
       "3  https://play-lh.googleusercontent.com/EGemoI2N...   \n",
       "4  https://play-lh.googleusercontent.com/EGemoI2N...   \n",
       "\n",
       "                                             content  score  thumbsUpCount  \\\n",
       "0  Dari gw sendiri gamenya udh cukup bagus mulai ...      4             20   \n",
       "1  [UPDATE] Sudah lancar kembali setelah update t...      5            102   \n",
       "2  Menurut pendapat saya game ini cukup bagus cum...      3             16   \n",
       "3  Suka suka deh. Makin update makin gede mb nya ...      4              3   \n",
       "4  Matchmaking lo Tencent diperbaiki dulu, itu ti...      1             18   \n",
       "\n",
       "  reviewCreatedVersion                   at  \\\n",
       "0             10.1.1.1  2024-10-10 20:33:41   \n",
       "1             10.1.1.1  2024-10-11 15:53:09   \n",
       "2             10.1.1.1  2024-10-10 11:55:13   \n",
       "3             10.1.1.1  2024-10-12 12:06:10   \n",
       "4             10.1.1.1  2024-10-12 16:56:39   \n",
       "\n",
       "                                        replyContent            repliedAt  \\\n",
       "0                                                NaN                  NaN   \n",
       "1  Halo pemain\\nJika jaringannya stabil, hal ini ...  2024-10-10 08:26:21   \n",
       "2  Hai pemain, \\nTerima kasih atas saran Anda. Ka...  2024-10-10 16:17:08   \n",
       "3                                                NaN                  NaN   \n",
       "4  Hai pemain,\\nSistem mencoba untuk memasangkan ...  2024-10-12 17:23:49   \n",
       "\n",
       "  appVersion  \n",
       "0   10.1.1.1  \n",
       "1   10.1.1.1  \n",
       "2   10.1.1.1  \n",
       "3   10.1.1.1  \n",
       "4   10.1.1.1  "
      ]
     },
     "execution_count": 2,
     "metadata": {},
     "output_type": "execute_result"
    }
   ],
   "source": [
    "df = pd.read_csv('scrapping-data-hok.csv')\n",
    "df.head(5) # Akan menampilkan 5 data teratas"
   ]
  },
  {
   "cell_type": "code",
   "execution_count": 3,
   "metadata": {
    "colab": {
     "base_uri": "https://localhost:8080/"
    },
    "id": "O-QXyVOLzsRc",
    "outputId": "e47683ea-7f88-4a7c-f483-122edf7a1f59"
   },
   "outputs": [
    {
     "name": "stdout",
     "output_type": "stream",
     "text": [
      "Jumlah total data: 112500\n"
     ]
    }
   ],
   "source": [
    "# Jumlah Total Data\n",
    "total_data = len(df)\n",
    "print(\"Jumlah total data:\", total_data)"
   ]
  },
  {
   "cell_type": "markdown",
   "metadata": {
    "id": "132sASVRw9Ta"
   },
   "source": [
    "## **Pemrosesan Data**\n",
    "Karena kita melakukan scrapping data dan kita sudah menghubungkan dengan data csv. Kita akan melakukan pemrosesan data seperti pembersihan null, feature selection, pelabelan data dan lain-lain"
   ]
  },
  {
   "cell_type": "code",
   "execution_count": 4,
   "metadata": {
    "colab": {
     "base_uri": "https://localhost:8080/"
    },
    "id": "oEolB6KT0NYd",
    "outputId": "97f04b9f-7b01-4cba-a5bc-1461f132ad8a"
   },
   "outputs": [
    {
     "data": {
      "text/plain": [
       "0"
      ]
     },
     "execution_count": 4,
     "metadata": {},
     "output_type": "execute_result"
    }
   ],
   "source": [
    "# Pengecekan Duplicated\n",
    "df.duplicated().sum()"
   ]
  },
  {
   "cell_type": "code",
   "execution_count": 5,
   "metadata": {
    "colab": {
     "base_uri": "https://localhost:8080/",
     "height": 429
    },
    "id": "3XiwYJrS0c2k",
    "outputId": "3dd8a4e6-fb0e-4d90-e35e-a9cbe71a049a"
   },
   "outputs": [
    {
     "data": {
      "text/plain": [
       "reviewId                    0\n",
       "userName                    0\n",
       "userImage                   0\n",
       "content                     0\n",
       "score                       0\n",
       "thumbsUpCount               0\n",
       "reviewCreatedVersion    24094\n",
       "at                          0\n",
       "replyContent            93552\n",
       "repliedAt               93552\n",
       "appVersion              24094\n",
       "dtype: int64"
      ]
     },
     "execution_count": 5,
     "metadata": {},
     "output_type": "execute_result"
    }
   ],
   "source": [
    "# Pengecekan Data Null (Kosong)\n",
    "df.isnull().sum()"
   ]
  },
  {
   "cell_type": "code",
   "execution_count": 6,
   "metadata": {
    "colab": {
     "base_uri": "https://localhost:8080/",
     "height": 429
    },
    "id": "41gr-wYg0i8A",
    "outputId": "b03b097b-ac25-44d8-8d9a-c8f9ba2ea952"
   },
   "outputs": [
    {
     "data": {
      "text/plain": [
       "reviewId                0\n",
       "userName                0\n",
       "userImage               0\n",
       "content                 0\n",
       "score                   0\n",
       "thumbsUpCount           0\n",
       "reviewCreatedVersion    0\n",
       "at                      0\n",
       "replyContent            0\n",
       "repliedAt               0\n",
       "appVersion              0\n",
       "dtype: int64"
      ]
     },
     "execution_count": 6,
     "metadata": {},
     "output_type": "execute_result"
    }
   ],
   "source": [
    "# Penghapusan Data Null (Kosong)\n",
    "df = df.dropna()\n",
    "\n",
    "# Pengecekan Ulang Data Null (Kosong)\n",
    "df.isnull().sum()"
   ]
  },
  {
   "cell_type": "code",
   "execution_count": 7,
   "metadata": {
    "colab": {
     "base_uri": "https://localhost:8080/",
     "height": 206
    },
    "id": "279mk50-6JwZ",
    "outputId": "575fc7d1-e55e-44fa-a601-b924baaf6fba"
   },
   "outputs": [
    {
     "data": {
      "text/html": [
       "<div>\n",
       "<style scoped>\n",
       "    .dataframe tbody tr th:only-of-type {\n",
       "        vertical-align: middle;\n",
       "    }\n",
       "\n",
       "    .dataframe tbody tr th {\n",
       "        vertical-align: top;\n",
       "    }\n",
       "\n",
       "    .dataframe thead th {\n",
       "        text-align: right;\n",
       "    }\n",
       "</style>\n",
       "<table border=\"1\" class=\"dataframe\">\n",
       "  <thead>\n",
       "    <tr style=\"text-align: right;\">\n",
       "      <th></th>\n",
       "      <th>content</th>\n",
       "      <th>score</th>\n",
       "    </tr>\n",
       "  </thead>\n",
       "  <tbody>\n",
       "    <tr>\n",
       "      <th>1</th>\n",
       "      <td>[UPDATE] Sudah lancar kembali setelah update t...</td>\n",
       "      <td>5</td>\n",
       "    </tr>\n",
       "    <tr>\n",
       "      <th>2</th>\n",
       "      <td>Menurut pendapat saya game ini cukup bagus cum...</td>\n",
       "      <td>3</td>\n",
       "    </tr>\n",
       "    <tr>\n",
       "      <th>4</th>\n",
       "      <td>Matchmaking lo Tencent diperbaiki dulu, itu ti...</td>\n",
       "      <td>1</td>\n",
       "    </tr>\n",
       "    <tr>\n",
       "      <th>5</th>\n",
       "      <td>Kenapa sering suruh instal data yang di dalamn...</td>\n",
       "      <td>3</td>\n",
       "    </tr>\n",
       "    <tr>\n",
       "      <th>6</th>\n",
       "      <td>segi Game play bagus, grafik.. Tapi team selal...</td>\n",
       "      <td>1</td>\n",
       "    </tr>\n",
       "  </tbody>\n",
       "</table>\n",
       "</div>"
      ],
      "text/plain": [
       "                                             content  score\n",
       "1  [UPDATE] Sudah lancar kembali setelah update t...      5\n",
       "2  Menurut pendapat saya game ini cukup bagus cum...      3\n",
       "4  Matchmaking lo Tencent diperbaiki dulu, itu ti...      1\n",
       "5  Kenapa sering suruh instal data yang di dalamn...      3\n",
       "6  segi Game play bagus, grafik.. Tapi team selal...      1"
      ]
     },
     "execution_count": 7,
     "metadata": {},
     "output_type": "execute_result"
    }
   ],
   "source": [
    "# Feature Selection, karena kita akan berfokus pada content dan score saja.\n",
    "feature_selection = ['content', 'score']\n",
    "df = df.drop(columns=[col for col in df.columns if col not in feature_selection])\n",
    "df.head()"
   ]
  },
  {
   "cell_type": "markdown",
   "metadata": {},
   "source": [
    "## **Visualisasi**"
   ]
  },
  {
   "cell_type": "code",
   "execution_count": 8,
   "metadata": {},
   "outputs": [
    {
     "name": "stderr",
     "output_type": "stream",
     "text": [
      "C:\\Users\\irfan\\AppData\\Local\\Temp\\ipykernel_39512\\4000538223.py:7: FutureWarning: \n",
      "\n",
      "Passing `palette` without assigning `hue` is deprecated and will be removed in v0.14.0. Assign the `x` variable to `hue` and set `legend=False` for the same effect.\n",
      "\n",
      "  ax = sns.countplot(x=\"score\", data=df, palette=\"pastel\")\n"
     ]
    },
    {
     "data": {
      "image/png": "[encoded data removed]",
      "text/plain": [
       "<Figure size 1400x800 with 1 Axes>"
      ]
     },
     "metadata": {},
     "output_type": "display_data"
    }
   ],
   "source": [
    "# visualisasi bar chart untuk melihat jumlah rating pengguna Sayurbox \n",
    "fig, ax = plt.subplots(figsize=(14,8))\n",
    "position = (0,1,2,3,4)\n",
    "labels = (\"Rating 1\",\"Rating 2\",\"Rating 3\",\"Rating 4\",\"Rating 5\")\n",
    "\n",
    "ax = sns.set_style('whitegrid')\n",
    "ax = sns.countplot(x=\"score\", data=df, palette=\"pastel\")\n",
    "\n",
    "for rect in ax.patches:\n",
    "    ax.text (rect.get_x() + rect.get_width()  / 2,\n",
    "             rect.get_height()+ 3.25,rect.get_height(),\n",
    "             horizontalalignment='center', fontsize = 12)\n",
    "\n",
    "plt.title('Distribusi Rating Pengguna HOK', fontsize=20, fontweight='bold', pad=25)\n",
    "plt.xlabel('Rate', fontsize=15, labelpad=10)\n",
    "plt.xticks(position, labels)\n",
    "plt.ylim(1)\n",
    "plt.show()"
   ]
  },
  {
   "cell_type": "markdown",
   "metadata": {
    "id": "E6Smnh1c8y4s"
   },
   "source": [
    "## **Pemrosesan Text**\n",
    "Kita akan melakukan pemrosesan text seperti penghapusan numbers, pengubahan text menjadi kecil, dll"
   ]
  },
  {
   "cell_type": "code",
   "execution_count": 9,
   "metadata": {},
   "outputs": [],
   "source": [
    "# Import Library untuk Pemrosesan Text hingga Representasi Text\n",
    "import numpy as np\n",
    "import nltk\n",
    "import re\n",
    "import string\n",
    "from sklearn.feature_extraction.text import TfidfVectorizer\n",
    "from sklearn.model_selection import train_test_split\n",
    "from sklearn.neighbors import KNeighborsClassifier\n",
    "from sklearn.metrics import classification_report, accuracy_score\n",
    "from Sastrawi.Stemmer.StemmerFactory import StemmerFactory"
   ]
  },
  {
   "cell_type": "code",
   "execution_count": 10,
   "metadata": {
    "colab": {
     "base_uri": "https://localhost:8080/"
    },
    "id": "D7Y68FvN9Cj3",
    "outputId": "de657f71-68aa-406b-f6ad-c67ec13dd847"
   },
   "outputs": [
    {
     "name": "stdout",
     "output_type": "stream",
     "text": [
      "Requirement already satisfied: Sastrawi in c:\\users\\irfan\\anaconda3\\lib\\site-packages (1.0.1)\n",
      "Note: you may need to restart the kernel to use updated packages.\n"
     ]
    }
   ],
   "source": [
    "# Install Sastrawi untuk stemming bahasa Indonesia\n",
    "%pip install Sastrawi"
   ]
  },
  {
   "cell_type": "code",
   "execution_count": 11,
   "metadata": {
    "colab": {
     "base_uri": "https://localhost:8080/"
    },
    "id": "Gc5wmuCa91mz",
    "outputId": "a485899b-6dcf-4cf0-cfa3-92fdad604d22"
   },
   "outputs": [
    {
     "name": "stdout",
     "output_type": "stream",
     "text": [
      "Requirement already satisfied: nltk in c:\\users\\irfan\\anaconda3\\lib\\site-packages (3.8.1)\n",
      "Requirement already satisfied: click in c:\\users\\irfan\\anaconda3\\lib\\site-packages (from nltk) (8.1.7)\n",
      "Requirement already satisfied: joblib in c:\\users\\irfan\\anaconda3\\lib\\site-packages (from nltk) (1.4.2)\n",
      "Requirement already satisfied: regex>=2021.8.3 in c:\\users\\irfan\\anaconda3\\lib\\site-packages (from nltk) (2023.10.3)\n",
      "Requirement already satisfied: tqdm in c:\\users\\irfan\\anaconda3\\lib\\site-packages (from nltk) (4.66.4)\n",
      "Requirement already satisfied: colorama in c:\\users\\irfan\\anaconda3\\lib\\site-packages (from click->nltk) (0.4.6)\n",
      "Note: you may need to restart the kernel to use updated packages.\n"
     ]
    }
   ],
   "source": [
    "# Install NLTK\n",
    "%pip install nltk"
   ]
  },
  {
   "cell_type": "code",
   "execution_count": 12,
   "metadata": {
    "colab": {
     "base_uri": "https://localhost:8080/"
    },
    "id": "mD_xPCuH-Bir",
    "outputId": "3c5d4b8a-fac4-4f69-da20-d97f2b688818"
   },
   "outputs": [
    {
     "name": "stderr",
     "output_type": "stream",
     "text": [
      "[nltk_data] Downloading package stopwords to\n",
      "[nltk_data]     C:\\Users\\irfan\\AppData\\Roaming\\nltk_data...\n",
      "[nltk_data]   Package stopwords is already up-to-date!\n"
     ]
    },
    {
     "data": {
      "text/plain": [
       "True"
      ]
     },
     "execution_count": 12,
     "metadata": {},
     "output_type": "execute_result"
    }
   ],
   "source": [
    "# Mengunduh NLTK Stopwords\n",
    "import nltk\n",
    "nltk.download('stopwords')"
   ]
  },
  {
   "cell_type": "code",
   "execution_count": 13,
   "metadata": {},
   "outputs": [
    {
     "name": "stdout",
     "output_type": "stream",
     "text": [
      "                                                                                                                                                                                                                                                                                                                                                                                                                                               content  score\n",
      "1                                                                                                                                        [UPDATE] Sudah lancar kembali setelah update terakhir sebesar 1MB, ternyata ada pengaruh juga. ____________________________________________ FPS drop, samapi 2 fps. Padahal jaringan stabil, test jaringan ping bagus, di game lain juga bagus. Ini bukan masalah jaringan, ini terjadi baru sekitar 1 minggu      5\n",
      "2       Menurut pendapat saya game ini cukup bagus cuman ada beberapa keluh kesah saya yaitu: 1. Tampilan hero dan posternya Kebanyakan hero posternya bagus, tapi tampilannya tidak sesuai dengan posternya 2. Grafik Grafik di dalam game ini perlu penyesuaian agar tidak terlihat seperti game jadul, map dan hero 3. Tampilan loby Perlu di rombak ulang agar mudah di mengerti Itu saja keluhan dari saya, bintang 5 jika di turuti terimakasih🙏      3\n",
      "4                                                                                                                                                                                               Matchmaking lo Tencent diperbaiki dulu, itu tim musuh dikasih yang bisa main sedangkan team sendiri dikasih yang tukang troll, tidak main, tidak bisa baca map. Jika game lo Tencent mau bertahan dan besar diperbaiki dlu matchmaking. Mohon dibaca!!      1\n",
      "5                                                                                                                                                                                        Kenapa sering suruh instal data yang di dalamnya , trus untuk progresnya lama banget Jika langsung main , hero lawan gak kelihatan ( bulat ) Coba untuk kedepannya di hilangkan fitur seperti itu , untuk dari segi grafik dan yang lainnya subah cukup bagus      3\n",
      "6                                                                       segi Game play bagus, grafik.. Tapi team selalu dapet dark sistem. ga bisa baca map. trial hero di rangked. download data game ga pernah bisa instal padahal udah 100%. jaminan game bakal sepi kalo tidak di tindak lanjutin.. ga bakal bertahan lama.. beberapa tahun kedepan udah ilang ini game. developernya agak aneh. masalah bnyak yg di komplen tpi ga ada Gerakannya      1\n",
      "...                                                                                                                                                                                                                                                                                                                                                                                                                                                ...    ...\n",
      "109340                                                                                                                                                                                                                                                                                                                                                                                                                                       Good game      5\n",
      "109693                                                                                                                                                                                                                                                                                                                                                                                                                             GODDDDDDD GAMEEEEEE      5\n",
      "110424                                                                                                                                                                                                                                                                                                                                                                                                                                       Game Seru      5\n",
      "110802                                                                                                                                                                                                                                                                                                                                                                                                                                    abangnya aov      5\n",
      "110909                                                                                                                                                                                                                                                                                                                                                                                                                                Moonton insicure      5\n"
     ]
    }
   ],
   "source": [
    "# Tampilkan 10 record pertama dataset\n",
    "print(df.to_string(index=True, max_rows=10))"
   ]
  },
  {
   "cell_type": "code",
   "execution_count": 14,
   "metadata": {},
   "outputs": [
    {
     "data": {
      "text/html": [
       "<div>\n",
       "<style scoped>\n",
       "    .dataframe tbody tr th:only-of-type {\n",
       "        vertical-align: middle;\n",
       "    }\n",
       "\n",
       "    .dataframe tbody tr th {\n",
       "        vertical-align: top;\n",
       "    }\n",
       "\n",
       "    .dataframe thead th {\n",
       "        text-align: right;\n",
       "    }\n",
       "</style>\n",
       "<table border=\"1\" class=\"dataframe\">\n",
       "  <thead>\n",
       "    <tr style=\"text-align: right;\">\n",
       "      <th></th>\n",
       "      <th>content</th>\n",
       "      <th>score</th>\n",
       "      <th>clean_content</th>\n",
       "    </tr>\n",
       "  </thead>\n",
       "  <tbody>\n",
       "    <tr>\n",
       "      <th>1</th>\n",
       "      <td>[UPDATE] Sudah lancar kembali setelah update t...</td>\n",
       "      <td>5</td>\n",
       "      <td>[update] sudah lancar kembali setelah update t...</td>\n",
       "    </tr>\n",
       "    <tr>\n",
       "      <th>2</th>\n",
       "      <td>Menurut pendapat saya game ini cukup bagus cum...</td>\n",
       "      <td>3</td>\n",
       "      <td>menurut pendapat saya game ini cukup bagus cum...</td>\n",
       "    </tr>\n",
       "    <tr>\n",
       "      <th>4</th>\n",
       "      <td>Matchmaking lo Tencent diperbaiki dulu, itu ti...</td>\n",
       "      <td>1</td>\n",
       "      <td>matchmaking lo tencent diperbaiki dulu, itu ti...</td>\n",
       "    </tr>\n",
       "    <tr>\n",
       "      <th>5</th>\n",
       "      <td>Kenapa sering suruh instal data yang di dalamn...</td>\n",
       "      <td>3</td>\n",
       "      <td>kenapa sering suruh instal data yang di dalamn...</td>\n",
       "    </tr>\n",
       "    <tr>\n",
       "      <th>6</th>\n",
       "      <td>segi Game play bagus, grafik.. Tapi team selal...</td>\n",
       "      <td>1</td>\n",
       "      <td>segi game play bagus, grafik.. tapi team selal...</td>\n",
       "    </tr>\n",
       "  </tbody>\n",
       "</table>\n",
       "</div>"
      ],
      "text/plain": [
       "                                             content  score  \\\n",
       "1  [UPDATE] Sudah lancar kembali setelah update t...      5   \n",
       "2  Menurut pendapat saya game ini cukup bagus cum...      3   \n",
       "4  Matchmaking lo Tencent diperbaiki dulu, itu ti...      1   \n",
       "5  Kenapa sering suruh instal data yang di dalamn...      3   \n",
       "6  segi Game play bagus, grafik.. Tapi team selal...      1   \n",
       "\n",
       "                                       clean_content  \n",
       "1  [update] sudah lancar kembali setelah update t...  \n",
       "2  menurut pendapat saya game ini cukup bagus cum...  \n",
       "4  matchmaking lo tencent diperbaiki dulu, itu ti...  \n",
       "5  kenapa sering suruh instal data yang di dalamn...  \n",
       "6  segi game play bagus, grafik.. tapi team selal...  "
      ]
     },
     "execution_count": 14,
     "metadata": {},
     "output_type": "execute_result"
    }
   ],
   "source": [
    "# Case Folding\n",
    "def lowercase(review_text):\n",
    "    low = review_text.lower()\n",
    "    return low\n",
    "\n",
    "df['clean_content'] = df['content'].apply(lambda low:lowercase(str(low)))\n",
    "df.head()"
   ]
  },
  {
   "cell_type": "code",
   "execution_count": 15,
   "metadata": {},
   "outputs": [],
   "source": [
    "# Menghapus emoji menggunakan regex dan nilai unicode dari emoji\n",
    "\n",
    "def remove_emoji(review_text):\n",
    "    emoji_pattern = re.compile(\"[\"\n",
    "                           u\"\\U0001F600-\\U0001F64F\"  # emoticons\n",
    "                           u\"\\U0001F300-\\U0001F5FF\"  # symbols & pictographs\n",
    "                           u\"\\U0001F680-\\U0001F6FF\"  # transport & map symbols\n",
    "                           u\"\\U00002702-\\U000027B0\"\n",
    "                           u\"\\U000024C2-\\U0001F251\"\n",
    "                           u\"\\U0001f926-\\U0001f937\"\n",
    "                           u\"\\U00010000-\\U0010ffff\"\n",
    "                           \"]+\", flags=re.UNICODE)\n",
    "    return emoji_pattern.sub(r'', review_text)\n",
    "\n",
    "df['clean_content'] = df['clean_content'].apply(lambda emoji: remove_emoji(emoji))"
   ]
  },
  {
   "cell_type": "code",
   "execution_count": 16,
   "metadata": {},
   "outputs": [],
   "source": [
    "# Remove Hastag\n",
    "def remove_hashtag(review_text, default_replace=\"\"):\n",
    "    hashtag = re.sub(r'#\\w+', default_replace, review_text)\n",
    "    return hashtag\n",
    "\n",
    "df['clean_content'] = df['clean_content'].apply(lambda hashtag: remove_hashtag(hashtag))"
   ]
  },
  {
   "cell_type": "code",
   "execution_count": 17,
   "metadata": {},
   "outputs": [],
   "source": [
    "# Remove punctuation and number\n",
    "def remove_number(review_text, default_replace=\" \"):\n",
    "    num = re.sub(r'\\d+', default_replace, review_text)\n",
    "    return num\n",
    "\n",
    "df['clean_content'] = df['clean_content'].apply(lambda num: remove_number(num))"
   ]
  },
  {
   "cell_type": "code",
   "execution_count": 18,
   "metadata": {},
   "outputs": [],
   "source": [
    "# Remove tanda baca\n",
    "def remove_punctuation(review_text, default_text=\" \"):\n",
    "   list_punct = string.punctuation\n",
    "   delete_punct = str.maketrans(list_punct,' '*len(list_punct))\n",
    "   new_review = ' '.join(review_text.translate(delete_punct).split())\n",
    "   return new_review\n",
    "\n",
    "df['clean_content'] = df['clean_content'].apply(lambda punct: remove_punctuation(punct))"
   ]
  },
  {
   "cell_type": "code",
   "execution_count": 19,
   "metadata": {},
   "outputs": [],
   "source": [
    "# Remove superskrip\n",
    "def remove_superscript(review_text):\n",
    "  number = re.compile(\"[\"u\"\\U00002070\" \n",
    "                      u\"\\U000000B9\"  \n",
    "                      u\"\\U000000B2-\\U000000B3\"\n",
    "                      u\"\\U00002074-\\U00002079\"\n",
    "                      u\"\\U0000207A-\\U0000207E\"\n",
    "                      u\"U0000200D\"\n",
    "                      \"]+\", flags=re.UNICODE)\n",
    "  return number.sub(r'', review_text)\n",
    "\n",
    "df['clean_content'] = df['clean_content'].apply(lambda num: remove_superscript(num))"
   ]
  },
  {
   "cell_type": "code",
   "execution_count": 20,
   "metadata": {},
   "outputs": [],
   "source": [
    "# Remove word repetition\n",
    "def word_repetition(review_text):\n",
    "  review = re.sub(r'(.)\\1+', r'\\1\\1', review_text)\n",
    "  return review\n",
    "\n",
    "df['clean_content'] = df['clean_content'].apply(lambda word: word_repetition(word))"
   ]
  },
  {
   "cell_type": "code",
   "execution_count": 21,
   "metadata": {},
   "outputs": [],
   "source": [
    "# Melakukan pembatasan kata berulang\n",
    "def repetition(review_text):\n",
    "  repeat = re.sub(r'\\b(\\w+)(?:\\W\\1\\b)+', r'\\1',review_text, flags=re.IGNORECASE)\n",
    "  return repeat\n",
    "\n",
    "df['clean_content'] = df['clean_content'].apply(lambda word: repetition(word))"
   ]
  },
  {
   "cell_type": "code",
   "execution_count": 31,
   "metadata": {},
   "outputs": [],
   "source": [
    "# Menghapus Kata Spasi Berlebihan\n",
    "def remove_extra_whitespaces(review_text):\n",
    "  review = re.sub(r'\\s+',' ', review_text)\n",
    "  return review\n",
    "\n",
    "df['clean_content'] = df['clean_content'].apply(lambda extra_spaces: remove_extra_whitespaces(extra_spaces))"
   ]
  },
  {
   "cell_type": "code",
   "execution_count": 23,
   "metadata": {},
   "outputs": [
    {
     "data": {
      "text/html": [
       "<div>\n",
       "<style scoped>\n",
       "    .dataframe tbody tr th:only-of-type {\n",
       "        vertical-align: middle;\n",
       "    }\n",
       "\n",
       "    .dataframe tbody tr th {\n",
       "        vertical-align: top;\n",
       "    }\n",
       "\n",
       "    .dataframe thead th {\n",
       "        text-align: right;\n",
       "    }\n",
       "</style>\n",
       "<table border=\"1\" class=\"dataframe\">\n",
       "  <thead>\n",
       "    <tr style=\"text-align: right;\">\n",
       "      <th></th>\n",
       "      <th>content</th>\n",
       "      <th>score</th>\n",
       "      <th>clean_content</th>\n",
       "    </tr>\n",
       "  </thead>\n",
       "  <tbody>\n",
       "    <tr>\n",
       "      <th>1</th>\n",
       "      <td>[UPDATE] Sudah lancar kembali setelah update t...</td>\n",
       "      <td>5</td>\n",
       "      <td>update sudah lancar kembali setelah update ter...</td>\n",
       "    </tr>\n",
       "    <tr>\n",
       "      <th>2</th>\n",
       "      <td>Menurut pendapat saya game ini cukup bagus cum...</td>\n",
       "      <td>3</td>\n",
       "      <td>menurut pendapat saya game ini cukup bagus cum...</td>\n",
       "    </tr>\n",
       "    <tr>\n",
       "      <th>4</th>\n",
       "      <td>Matchmaking lo Tencent diperbaiki dulu, itu ti...</td>\n",
       "      <td>1</td>\n",
       "      <td>matchmaking lo tencent diperbaiki dulu itu tim...</td>\n",
       "    </tr>\n",
       "    <tr>\n",
       "      <th>5</th>\n",
       "      <td>Kenapa sering suruh instal data yang di dalamn...</td>\n",
       "      <td>3</td>\n",
       "      <td>kenapa sering suruh instal data yang di dalamn...</td>\n",
       "    </tr>\n",
       "    <tr>\n",
       "      <th>6</th>\n",
       "      <td>segi Game play bagus, grafik.. Tapi team selal...</td>\n",
       "      <td>1</td>\n",
       "      <td>segi game play bagus grafik tapi team selalu d...</td>\n",
       "    </tr>\n",
       "  </tbody>\n",
       "</table>\n",
       "</div>"
      ],
      "text/plain": [
       "                                             content  score  \\\n",
       "1  [UPDATE] Sudah lancar kembali setelah update t...      5   \n",
       "2  Menurut pendapat saya game ini cukup bagus cum...      3   \n",
       "4  Matchmaking lo Tencent diperbaiki dulu, itu ti...      1   \n",
       "5  Kenapa sering suruh instal data yang di dalamn...      3   \n",
       "6  segi Game play bagus, grafik.. Tapi team selal...      1   \n",
       "\n",
       "                                       clean_content  \n",
       "1  update sudah lancar kembali setelah update ter...  \n",
       "2  menurut pendapat saya game ini cukup bagus cum...  \n",
       "4  matchmaking lo tencent diperbaiki dulu itu tim...  \n",
       "5  kenapa sering suruh instal data yang di dalamn...  \n",
       "6  segi game play bagus grafik tapi team selalu d...  "
      ]
     },
     "execution_count": 23,
     "metadata": {},
     "output_type": "execute_result"
    }
   ],
   "source": [
    "# Menghapus Tidak Memiliki Arti\n",
    "bannedword = ['uqjy', 'dehdje', 'jwdnmb', 'wxvlezuvws', 'ircel', 'swjjw', 'dmv',\n",
    "         'dxrgz','qjtajuq','zzhwntdft','xywrfw' ,'fztnmdrrduy' ,'xsezuz', \n",
    "         'kbyv', 'iyyveyzqkdgm', 'arlrmdjy', 'sfarif', 'sfomar', \n",
    "         'syantienurxsayurbox', 'ghinaxsayurbox', 'nzxx', 'mtsco','wkwk',\n",
    "         'wkwkw','wkwkwk','hihi','hihihii','hihihi','hehehe','hehehehe','hehe',\n",
    "         'huhu','huhuu','ancok','guak','cokcok','hhmm','annya','huftt', 'mb', 'fps','ping','gb','keq',\n",
    "         'op','dep', 'ksel','eh','gm','dicaprio∆']\n",
    "\n",
    "re_banned_words = re.compile(r\"\\b(\" + \"|\".join(bannedword) + \")\\\\W\", re.I)\n",
    "\n",
    "def RemoveBannedWords(toPrint):\n",
    "    global re_banned_words\n",
    "    return re_banned_words.sub(\"\", toPrint)\n",
    "  \n",
    "df['clean_content'] = df['clean_content'].apply(lambda banned:RemoveBannedWords(banned))\n",
    "df.head()"
   ]
  },
  {
   "cell_type": "code",
   "execution_count": 39,
   "metadata": {},
   "outputs": [
    {
     "name": "stdout",
     "output_type": "stream",
     "text": [
      "                                                                                                                                                                                                                                                                                                                                                                                                                                                                 content  score                                                                                                                                                                                                                                                                                                                                    clean_content\n",
      "1                                                                                                                                                             [UPDATE] Sudah lancar kembali setelah baru terakhir sebesar 1MB, ternyata ada pengaruh juga. ____________________________________________ FPS drop, sampai 2 fps. Padahal jaringan stabil, test jaringan ping bagus, di gim lain juga bagus. Ini bukan masalah jaringan, ini terjadi baru sekitar 1 minggu      5                                                                                                                                                           baru sudah lancar kembali telah baru akhir besar nyata pengaruh juga drop sampai padahal jaring stabil test jaring bagus lain juga bagus bukan masalah jaring jadi baru sekitar minggu\n",
      "2       Menurut pendapat saya gim ini cukup bagus cuman ada beberapa keluh kesah saya yaitu: 1. Tampilan pahlawan dan posternya Kebanyakan pahlawan posternya bagus, tapi tampilannya tidak sesuai dengan posternya 2. Grafik Grafik di dalam gim ini perlu penyesuaian agar tidak terlihat seperti gim jadul, peta dan pahlawan 3. Tampilan ruang tunggu Perlu di rombak ulang agar mudah di mengerti Itu saja keluhan dari saya, bintang 5 jika di turuti terimakasih🙏      3  turut dapat saya cukup bagus cuman beberapa keluh kesah saya yaitu tampil pahlawan poster banyak pahlawan poster bagus tapi tampil tidak sesuai dengan poster grafik dalam perlu sesuai agar tidak lihat seperti jadul peta pahlawan tampil ruang tunggu perlu rombak ulang agar mudah erti saja keluh dari saya bintang jika turut terimakasih\n",
      "4                                                                                                                                                                                                              Matchmaking kamu Tencent diperbaiki dulu, itu tim musuh dikasih yang bisa main sedangkan tim sendiri dikasih yang tukang troll, tidak main, tidak bisa baca map. Jika gim kamu Tencent mau bertahan dan besar diperbaiki dulu matchmaking. Mohon dibaca!!      1                                                                                                                                                       tanding kamu tencent baik dulu musuh kasih yang bisa main sedang sendiri kasih yang tukang tipu tidak main tidak bisa baca peta jika kamu tencent tahan besar baik dulu tanding mohon baca\n",
      "5                                                                                                                                                                                                   Kenapa sering suruh instal data yang di dalamnya , terus untuk progresnya lama banget Jika langsung main , pahlawan lawan tidak kelihatan ( bulat ) Coba untuk kedepannya di hilangkan fitur seperti itu , untuk dari segi grafik dan yang lainnya subah cukup bagus      3                                                                                                                           kenapa sering suruh unduh data yang dalam terus untuk progres lama banget jika langsung main pahlawan lawan tidak lihat bulat coba untuk depan hilang fitur seperti untuk dari segi grafik yang lain sudah cukup bagus\n",
      "6                                                                 segi Game play bagus, grafik.. Tapi tim selalu dapat dark sistem. tidak bisa baca map. percobaan pahlawan di rangked. download data gim tidak pernah bisa instal padahal sudah 100%. jaminan gim bakal sepi kalo tidak di tindak lanjutin.. tidak bakal bertahan lama.. beberapa tahun kedepan sudah hilang ini game. developernya agak aneh. masalah banyak yang di komplen tapi tidak ada Gerakannya      1                         segi main bagus grafik tapi selalu dapat dark sistem tidak bisa baca peta coba pahlawan peringkat download data tidak pernah bisa unduh padahal sudah jamin bakal sepi kalo tidak tindak lanjut tidak bakal tahan lama beberapa tahun depan sudah hilang developer agak aneh masalah banyak yang komplen tapi tidak gera\n",
      "...                                                                                                                                                                                                                                                                                                                                                                                                                                                                  ...    ...                                                                                                                                                                                                                                                                                                                                              ...\n",
      "109340                                                                                                                                                                                                                                                                                                                                                                                                                                                          Good gim      5                                                                                                                                                                                                                                                                                                                                            bagus\n",
      "109693                                                                                                                                                                                                                                                                                                                                                                                                                                               GODDDDDDD GAMEEEEEE      5                                                                                                                                                                                                                                                                                                                                            bagus\n",
      "110424                                                                                                                                                                                                                                                                                                                                                                                                                                                         Game Seru      5                                                                                                                                                                                                                                                                                                                                             seru\n",
      "110802                                                                                                                                                                                                                                                                                                                                                                                                                                                      abangnya aov      5                                                                                                                                                                                                                                                                                                                                            abang\n",
      "110909                                                                                                                                                                                                                                                                                                                                                                                                                                                  Moonton insicure      5                                                                                                                                                                                                                                                                                                                                     moonton malu\n"
     ]
    }
   ],
   "source": [
    "# Normalisasi Teks\n",
    "\n",
    "# Load the slang dictionary\n",
    "slang_df = pd.read_csv('colloquial-indonesian-lexicon.csv')\n",
    "slang_dict = dict(zip(slang_df['slang'], slang_df['formal']))\n",
    "\n",
    "# Function to translate slang to formal language using dictionary\n",
    "def translate_slang(text):\n",
    "    words = text.split()  # Split the text  into words\n",
    "    translated_words = [slang_dict.get(word, word) for word in words]  # Translate each word if it's in the slang dictionary\n",
    "    return ' '.join(translated_words)  # Join the translated words back into a single string\n",
    "\n",
    "# Example usage: Apply translation to the DataFrame column\n",
    "df['clean_content'] = df['clean_content'].apply(translate_slang)\n",
    "print(df.to_string(index=True, max_rows=10))"
   ]
  },
  {
   "cell_type": "code",
   "execution_count": 35,
   "metadata": {},
   "outputs": [
    {
     "data": {
      "text/html": [
       "<div>\n",
       "<style scoped>\n",
       "    .dataframe tbody tr th:only-of-type {\n",
       "        vertical-align: middle;\n",
       "    }\n",
       "\n",
       "    .dataframe tbody tr th {\n",
       "        vertical-align: top;\n",
       "    }\n",
       "\n",
       "    .dataframe thead th {\n",
       "        text-align: right;\n",
       "    }\n",
       "</style>\n",
       "<table border=\"1\" class=\"dataframe\">\n",
       "  <thead>\n",
       "    <tr style=\"text-align: right;\">\n",
       "      <th></th>\n",
       "      <th>content</th>\n",
       "      <th>score</th>\n",
       "      <th>clean_content</th>\n",
       "    </tr>\n",
       "  </thead>\n",
       "  <tbody>\n",
       "    <tr>\n",
       "      <th>1</th>\n",
       "      <td>[UPDATE] Sudah lancar kembali setelah baru ter...</td>\n",
       "      <td>5</td>\n",
       "      <td>baru sudah lancar kembali setelah baru terakhi...</td>\n",
       "    </tr>\n",
       "    <tr>\n",
       "      <th>2</th>\n",
       "      <td>Menurut pendapat saya gim ini cukup bagus cuma...</td>\n",
       "      <td>3</td>\n",
       "      <td>menurut pendapat saya   cukup bagus cuman  beb...</td>\n",
       "    </tr>\n",
       "    <tr>\n",
       "      <th>4</th>\n",
       "      <td>Matchmaking kamu Tencent diperbaiki dulu, itu ...</td>\n",
       "      <td>1</td>\n",
       "      <td>pertandingan kamu tencent diperbaiki dulu   mu...</td>\n",
       "    </tr>\n",
       "    <tr>\n",
       "      <th>5</th>\n",
       "      <td>Kenapa sering suruh instal data yang di dalamn...</td>\n",
       "      <td>3</td>\n",
       "      <td>kenapa sering suruh unduh data yang  dalamnya ...</td>\n",
       "    </tr>\n",
       "    <tr>\n",
       "      <th>6</th>\n",
       "      <td>segi Game play bagus, grafik.. Tapi tim selalu...</td>\n",
       "      <td>1</td>\n",
       "      <td>segi  play bagus grafik tapi  selalu dapat dar...</td>\n",
       "    </tr>\n",
       "  </tbody>\n",
       "</table>\n",
       "</div>"
      ],
      "text/plain": [
       "                                             content  score  \\\n",
       "1  [UPDATE] Sudah lancar kembali setelah baru ter...      5   \n",
       "2  Menurut pendapat saya gim ini cukup bagus cuma...      3   \n",
       "4  Matchmaking kamu Tencent diperbaiki dulu, itu ...      1   \n",
       "5  Kenapa sering suruh instal data yang di dalamn...      3   \n",
       "6  segi Game play bagus, grafik.. Tapi tim selalu...      1   \n",
       "\n",
       "                                       clean_content  \n",
       "1  baru sudah lancar kembali setelah baru terakhi...  \n",
       "2  menurut pendapat saya   cukup bagus cuman  beb...  \n",
       "4  pertandingan kamu tencent diperbaiki dulu   mu...  \n",
       "5  kenapa sering suruh unduh data yang  dalamnya ...  \n",
       "6  segi  play bagus grafik tapi  selalu dapat dar...  "
      ]
     },
     "execution_count": 35,
     "metadata": {},
     "output_type": "execute_result"
    }
   ],
   "source": [
    "# Menghapus 3 kata\n",
    "def remove_small_words(text):\n",
    "  text = re.sub(r'\\b\\w{1,3}\\b','',text)\n",
    "  return text\n",
    "df['clean_content'] = df['clean_content'].apply(lambda remove: remove_small_words(str(remove)))\n",
    "df.head()"
   ]
  },
  {
   "cell_type": "code",
   "execution_count": 37,
   "metadata": {},
   "outputs": [
    {
     "name": "stdout",
     "output_type": "stream",
     "text": [
      "                                                                                                                                                                                                                                                                                                                                                                                                                                                                 content  score                                                                                                                                                                                                                                                                                                                                    clean_content\n",
      "1                                                                                                                                                             [UPDATE] Sudah lancar kembali setelah baru terakhir sebesar 1MB, ternyata ada pengaruh juga. ____________________________________________ FPS drop, sampai 2 fps. Padahal jaringan stabil, test jaringan ping bagus, di gim lain juga bagus. Ini bukan masalah jaringan, ini terjadi baru sekitar 1 minggu      5                                                                                                                                                           baru sudah lancar kembali telah baru akhir besar nyata pengaruh juga drop sampai padahal jaring stabil test jaring bagus lain juga bagus bukan masalah jaring jadi baru sekitar minggu\n",
      "2       Menurut pendapat saya gim ini cukup bagus cuman ada beberapa keluh kesah saya yaitu: 1. Tampilan pahlawan dan posternya Kebanyakan pahlawan posternya bagus, tapi tampilannya tidak sesuai dengan posternya 2. Grafik Grafik di dalam gim ini perlu penyesuaian agar tidak terlihat seperti gim jadul, peta dan pahlawan 3. Tampilan ruang tunggu Perlu di rombak ulang agar mudah di mengerti Itu saja keluhan dari saya, bintang 5 jika di turuti terimakasih🙏      3  turut dapat saya cukup bagus cuman beberapa keluh kesah saya yaitu tampil pahlawan poster banyak pahlawan poster bagus tapi tampil tidak sesuai dengan poster grafik dalam perlu sesuai agar tidak lihat seperti jadul peta pahlawan tampil ruang tunggu perlu rombak ulang agar mudah erti saja keluh dari saya bintang jika turut terimakasih\n",
      "4                                                                                                                                                                                                              Matchmaking kamu Tencent diperbaiki dulu, itu tim musuh dikasih yang bisa main sedangkan tim sendiri dikasih yang tukang troll, tidak main, tidak bisa baca map. Jika gim kamu Tencent mau bertahan dan besar diperbaiki dulu matchmaking. Mohon dibaca!!      1                                                                                                                                                       tanding kamu tencent baik dulu musuh kasih yang bisa main sedang sendiri kasih yang tukang tipu tidak main tidak bisa baca peta jika kamu tencent tahan besar baik dulu tanding mohon baca\n",
      "5                                                                                                                                                                                                   Kenapa sering suruh instal data yang di dalamnya , terus untuk progresnya lama banget Jika langsung main , pahlawan lawan tidak kelihatan ( bulat ) Coba untuk kedepannya di hilangkan fitur seperti itu , untuk dari segi grafik dan yang lainnya subah cukup bagus      3                                                                                                                           kenapa sering suruh unduh data yang dalam terus untuk progres lama banget jika langsung main pahlawan lawan tidak lihat bulat coba untuk depan hilang fitur seperti untuk dari segi grafik yang lain sudah cukup bagus\n",
      "6                                                                 segi Game play bagus, grafik.. Tapi tim selalu dapat dark sistem. tidak bisa baca map. percobaan pahlawan di rangked. download data gim tidak pernah bisa instal padahal sudah 100%. jaminan gim bakal sepi kalo tidak di tindak lanjutin.. tidak bakal bertahan lama.. beberapa tahun kedepan sudah hilang ini game. developernya agak aneh. masalah banyak yang di komplen tapi tidak ada Gerakannya      1                           segi main bagus grafik tapi selalu dapat dark sistem tidak bisa baca peta coba pahlawan rangked download data tidak pernah bisa unduh padahal sudah jamin bakal sepi kalo tidak tindak lanjut tidak bakal tahan lama beberapa tahun depan sudah hilang developer agak aneh masalah banyak yang komplen tapi tidak gera\n",
      "...                                                                                                                                                                                                                                                                                                                                                                                                                                                                  ...    ...                                                                                                                                                                                                                                                                                                                                              ...\n",
      "109340                                                                                                                                                                                                                                                                                                                                                                                                                                                          Good gim      5                                                                                                                                                                                                                                                                                                                                            bagus\n",
      "109693                                                                                                                                                                                                                                                                                                                                                                                                                                               GODDDDDDD GAMEEEEEE      5                                                                                                                                                                                                                                                                                                                                            bagus\n",
      "110424                                                                                                                                                                                                                                                                                                                                                                                                                                                         Game Seru      5                                                                                                                                                                                                                                                                                                                                             seru\n",
      "110802                                                                                                                                                                                                                                                                                                                                                                                                                                                      abangnya aov      5                                                                                                                                                                                                                                                                                                                                            abang\n",
      "110909                                                                                                                                                                                                                                                                                                                                                                                                                                                  Moonton insicure      5                                                                                                                                                                                                                                                                                                                                     moonton malu\n"
     ]
    }
   ],
   "source": [
    "# Melakukan Stemming\n",
    "factory = StemmerFactory()\n",
    "stemmer = factory.create_stemmer()\n",
    "df['clean_content'] = df['clean_content'].apply(lambda x: ' '.join([stemmer.stem(word) for word in x.split()]))\n",
    "print(df.to_string(index=True, max_rows=10))"
   ]
  },
  {
   "cell_type": "markdown",
   "metadata": {},
   "source": [
    "## **TF-IDF (Term Frequency-Inverse Document Frequency)**\n",
    "\n",
    "Ditahap akhir dari text preprocessing adalah term-weighting .Term-weighting merupakan proses pemberian bobot term pada dokumen. Pembobotan ini digunakan nantinya oleh algoritma Machine Learning untuk klasifikasi dokumen. Ada beberapa metode yang dapat digunakan, salah satunya adalah TF-IDF (Term Frequency-Inverse Document Frequency)."
   ]
  },
  {
   "cell_type": "code",
   "execution_count": 40,
   "metadata": {},
   "outputs": [],
   "source": [
    "# Melakukan Import TF-IDF Vectorize\n",
    "from sklearn.feature_extraction.text import TfidfVectorizer"
   ]
  },
  {
   "cell_type": "code",
   "execution_count": 41,
   "metadata": {},
   "outputs": [
    {
     "name": "stderr",
     "output_type": "stream",
     "text": [
      "[nltk_data] Downloading package punkt to\n",
      "[nltk_data]     C:\\Users\\irfan\\AppData\\Roaming\\nltk_data...\n",
      "[nltk_data]   Package punkt is already up-to-date!\n"
     ]
    },
    {
     "name": "stdout",
     "output_type": "stream",
     "text": [
      "                                                   tokens\n",
      "1       [baru, sudah, lancar, kembali, telah, baru, ak...\n",
      "2       [turut, dapat, saya, cukup, bagus, cuman, bebe...\n",
      "4       [tanding, kamu, tencent, baik, dulu, musuh, ka...\n",
      "5       [kenapa, sering, suruh, unduh, data, yang, dal...\n",
      "6       [segi, main, bagus, grafik, tapi, selalu, dapa...\n",
      "...                                                   ...\n",
      "109340                                            [bagus]\n",
      "109693                                            [bagus]\n",
      "110424                                             [seru]\n",
      "110802                                            [abang]\n",
      "110909                                    [moonton, malu]\n",
      "\n",
      "[13046 rows x 1 columns]\n"
     ]
    }
   ],
   "source": [
    "from nltk.tokenize import word_tokenize\n",
    "\n",
    "# Download tokenizer jika belum tersedia\n",
    "nltk.download('punkt')\n",
    "\n",
    "# Terapkan tokenisasi pada setiap entri di kolom 'content'\n",
    "def word_tokenize_wrapper(text):\n",
    "    return word_tokenize(text)\n",
    "\n",
    "df['tokens'] = df['clean_content'].apply(word_tokenize_wrapper)\n",
    "\n",
    "# Tampilkan hasil tokenisasi\n",
    "print(df[['tokens']])  "
   ]
  },
  {
   "cell_type": "code",
   "execution_count": 42,
   "metadata": {},
   "outputs": [
    {
     "name": "stdout",
     "output_type": "stream",
     "text": [
      "1         baru sudah lancar kembali telah baru akhir bes...\n",
      "2         turut dapat saya cukup bagus cuman beberapa ke...\n",
      "4         tanding kamu tencent baik dulu musuh kasih yan...\n",
      "5         kenapa sering suruh unduh data yang dalam teru...\n",
      "6         segi main bagus grafik tapi selalu dapat dark ...\n",
      "                                ...                        \n",
      "109340                                                bagus\n",
      "109693                                                bagus\n",
      "110424                                                 seru\n",
      "110802                                                abang\n",
      "110909                                         moonton malu\n",
      "Name: list, Length: 13046, dtype: object\n"
     ]
    }
   ],
   "source": [
    "# Fungsi untuk menggabungkan list token menjadi string\n",
    "def join_text_list(tokens):\n",
    "    # Pastikan tokens adalah list\n",
    "    if isinstance(tokens, list):\n",
    "        return ' '.join(tokens)\n",
    "    return ''\n",
    "\n",
    "# Mengaplikasikan fungsi ke kolom 'tokens'\n",
    "df[\"list\"] = df[\"tokens\"].apply(join_text_list)\n",
    "print(df[\"list\"])"
   ]
  },
  {
   "cell_type": "code",
   "execution_count": 43,
   "metadata": {},
   "outputs": [
    {
     "name": "stdout",
     "output_type": "stream",
     "text": [
      "------- TF-IDF on Data -------\n",
      "TF-IDF  <class 'numpy.ndarray'> (13046, 1000)\n"
     ]
    }
   ],
   "source": [
    "from sklearn.feature_extraction.text import TfidfVectorizer\n",
    "\n",
    "# banyaknya term yang akan digunakan, \n",
    "# di pilih berdasarkan top max_features \n",
    "# yang diurutkan berdasarkan term frequency seluruh corpus\n",
    "max_features = 1000\n",
    "\n",
    "# Feature Engineering \n",
    "print (\"------- TF-IDF on Data -------\")\n",
    "\n",
    "tf_idf = TfidfVectorizer(max_features=max_features, binary=True)\n",
    "tfidf_mat = tf_idf.fit_transform(df[\"list\"]).toarray()\n",
    "\n",
    "print(\"TF-IDF \", type(tfidf_mat), tfidf_mat.shape)"
   ]
  },
  {
   "cell_type": "code",
   "execution_count": 44,
   "metadata": {},
   "outputs": [
    {
     "data": {
      "text/html": [
       "<div>\n",
       "<style scoped>\n",
       "    .dataframe tbody tr th:only-of-type {\n",
       "        vertical-align: middle;\n",
       "    }\n",
       "\n",
       "    .dataframe tbody tr th {\n",
       "        vertical-align: top;\n",
       "    }\n",
       "\n",
       "    .dataframe thead th {\n",
       "        text-align: right;\n",
       "    }\n",
       "</style>\n",
       "<table border=\"1\" class=\"dataframe\">\n",
       "  <thead>\n",
       "    <tr style=\"text-align: right;\">\n",
       "      <th></th>\n",
       "      <th>term</th>\n",
       "      <th>rank</th>\n",
       "    </tr>\n",
       "  </thead>\n",
       "  <tbody>\n",
       "    <tr>\n",
       "      <th>920</th>\n",
       "      <td>tidak</td>\n",
       "      <td>715.331322</td>\n",
       "    </tr>\n",
       "    <tr>\n",
       "      <th>518</th>\n",
       "      <td>main</td>\n",
       "      <td>520.428245</td>\n",
       "    </tr>\n",
       "    <tr>\n",
       "      <th>67</th>\n",
       "      <td>bagus</td>\n",
       "      <td>493.846953</td>\n",
       "    </tr>\n",
       "    <tr>\n",
       "      <th>997</th>\n",
       "      <td>yang</td>\n",
       "      <td>426.841910</td>\n",
       "    </tr>\n",
       "    <tr>\n",
       "      <th>125</th>\n",
       "      <td>bisa</td>\n",
       "      <td>413.758372</td>\n",
       "    </tr>\n",
       "    <tr>\n",
       "      <th>...</th>\n",
       "      <td>...</td>\n",
       "      <td>...</td>\n",
       "    </tr>\n",
       "    <tr>\n",
       "      <th>757</th>\n",
       "      <td>roamer</td>\n",
       "      <td>4.849126</td>\n",
       "    </tr>\n",
       "    <tr>\n",
       "      <th>442</th>\n",
       "      <td>komentar</td>\n",
       "      <td>4.769202</td>\n",
       "    </tr>\n",
       "    <tr>\n",
       "      <th>255</th>\n",
       "      <td>fighter</td>\n",
       "      <td>4.652941</td>\n",
       "    </tr>\n",
       "    <tr>\n",
       "      <th>70</th>\n",
       "      <td>bahwa</td>\n",
       "      <td>4.485495</td>\n",
       "    </tr>\n",
       "    <tr>\n",
       "      <th>688</th>\n",
       "      <td>pesan</td>\n",
       "      <td>4.485078</td>\n",
       "    </tr>\n",
       "  </tbody>\n",
       "</table>\n",
       "<p>1000 rows × 2 columns</p>\n",
       "</div>"
      ],
      "text/plain": [
       "         term        rank\n",
       "920     tidak  715.331322\n",
       "518      main  520.428245\n",
       "67      bagus  493.846953\n",
       "997      yang  426.841910\n",
       "125      bisa  413.758372\n",
       "..        ...         ...\n",
       "757    roamer    4.849126\n",
       "442  komentar    4.769202\n",
       "255   fighter    4.652941\n",
       "70      bahwa    4.485495\n",
       "688     pesan    4.485078\n",
       "\n",
       "[1000 rows x 2 columns]"
      ]
     },
     "execution_count": 44,
     "metadata": {},
     "output_type": "execute_result"
    }
   ],
   "source": [
    "terms = tf_idf.get_feature_names_out()\n",
    "\n",
    "# sum tfidf frequency of each term through documents\n",
    "sums = tfidf_mat.sum(axis=0)\n",
    "\n",
    "# connecting term to its sums frequency\n",
    "data = []\n",
    "for col, term in enumerate(terms):\n",
    "    data.append((term, sums[col] ))\n",
    "\n",
    "ranking = pd.DataFrame(data, columns=['term','rank'])\n",
    "ranking.sort_values('rank', ascending=False)"
   ]
  },
  {
   "cell_type": "code",
   "execution_count": 45,
   "metadata": {},
   "outputs": [],
   "source": [
    "from sklearn.feature_extraction.text import TfidfVectorizer, CountVectorizer\n",
    "from sklearn.preprocessing import normalize\n",
    "\n",
    "max_features = 1000\n",
    "\n",
    "# calc TF vector\n",
    "cvect = CountVectorizer(max_features=max_features)\n",
    "TF_vector = cvect.fit_transform(df[\"list\"])\n",
    "\n",
    "# normalize TF vector\n",
    "normalized_TF_vector = normalize(TF_vector, norm='l1', axis=1)\n",
    "\n",
    "# calc IDF\n",
    "tfidf = TfidfVectorizer(max_features=max_features, smooth_idf=False)\n",
    "tfs = tfidf.fit_transform(df[\"list\"])\n",
    "IDF_vector = tfidf.idf_\n",
    "\n",
    "# hitung TF x IDF sehingga dihasilkan TFIDF matrix / vector\n",
    "tfidf_mat = normalized_TF_vector.multiply(IDF_vector).toarray()"
   ]
  },
  {
   "cell_type": "code",
   "execution_count": 49,
   "metadata": {},
   "outputs": [
    {
     "name": "stdout",
     "output_type": "stream",
     "text": [
      "Show TFIDF sample at index 0:\n",
      "\n",
      "['baru', 'sudah', 'lancar', 'kembali', 'telah', 'baru', 'akhir', 'besar', 'nyata', 'pengaruh', 'juga', 'drop', 'sampai', 'padahal', 'jaring', 'stabil', 'test', 'jaring', 'bagus', 'lain', 'juga', 'bagus', 'bukan', 'masalah', 'jaring', 'jadi', 'baru', 'sekitar', 'minggu'] \n",
      "\n",
      "\t\t\t TF \t\t IDF \t\t TF-IDF \t Term\n",
      "\n",
      "Array position 14\t 0.035714\t 5.672216\t 0.202579\t akhir\n",
      "Array position 70\t 0.071429\t 2.840933\t 0.202924\t bagus\n",
      "Array position 86\t 0.107143\t 3.304580\t 0.354062\t baru\n",
      "Array position 116\t 0.035714\t 5.803408\t 0.207265\t besar\n",
      "Array position 143\t 0.035714\t 4.950784\t 0.176814\t bukan\n",
      "Array position 226\t 0.035714\t 5.401063\t 0.192895\t drop\n",
      "Array position 350\t 0.035714\t 3.306117\t 0.118076\t jadi\n",
      "Array position 355\t 0.107143\t 3.558531\t 0.381271\t jaring\n",
      "Array position 370\t 0.071429\t 3.703156\t 0.264511\t juga\n",
      "Array position 407\t 0.035714\t 5.527477\t 0.197410\t kembali\n",
      "Array position 461\t 0.035714\t 4.310819\t 0.153958\t lain\n",
      "Array position 467\t 0.035714\t 4.391737\t 0.156848\t lancar\n",
      "Array position 534\t 0.035714\t 4.300370\t 0.153585\t masalah\n",
      "Array position 570\t 0.035714\t 5.932942\t 0.211891\t minggu\n",
      "Array position 634\t 0.035714\t 5.672216\t 0.202579\t nyata\n",
      "Array position 648\t 0.035714\t 3.118681\t 0.111381\t padahal\n",
      "Array position 673\t 0.035714\t 7.585865\t 0.270924\t pengaruh\n",
      "Array position 774\t 0.035714\t 4.141183\t 0.147899\t sampai\n",
      "Array position 798\t 0.035714\t 7.703648\t 0.275130\t sekitar\n",
      "Array position 847\t 0.035714\t 4.870435\t 0.173944\t stabil\n",
      "Array position 861\t 0.035714\t 2.717476\t 0.097053\t sudah\n",
      "Array position 899\t 0.035714\t 4.435982\t 0.158428\t telah\n"
     ]
    }
   ],
   "source": [
    "from sklearn.feature_extraction.text import TfidfVectorizer, CountVectorizer\n",
    "from sklearn.preprocessing import normalize\n",
    "import pandas as pd\n",
    "\n",
    "# Assuming df is already defined with 'list' and 'tokens' columns.\n",
    "# Example setup for df (remove if df is already loaded):\n",
    "# df = pd.DataFrame({\n",
    "#     \"list\": [\"sample text one\", \"another example text\", \"more text data\"],\n",
    "#     \"tokens\": [[\"sample\", \"text\", \"one\"], [\"another\", \"example\", \"text\"], [\"more\", \"text\", \"data\"]]\n",
    "# })\n",
    "\n",
    "max_features = 1000\n",
    "\n",
    "def generate_tfidf_mat(min_gram, max_gram):\n",
    "    cvect = CountVectorizer(max_features=max_features, ngram_range=(min_gram, max_gram))\n",
    "    counts = cvect.fit_transform(df[\"list\"])\n",
    "\n",
    "    normalized_counts = normalize(counts, norm='l1', axis=1)\n",
    "\n",
    "    tfidf = TfidfVectorizer(max_features=max_features, ngram_range=(min_gram, max_gram), smooth_idf=False)\n",
    "    tfs = tfidf.fit_transform(df[\"list\"])\n",
    "\n",
    "    tfidf_mat = normalized_counts.multiply(tfidf.idf_).toarray()\n",
    "    \n",
    "    TF = normalized_counts.toarray()\n",
    "    IDF = tfidf.idf_\n",
    "    TF_IDF = tfidf_mat\n",
    "    return TF, IDF, TF_IDF, tfidf.get_feature_names_out()\n",
    "\n",
    "# Generate matrices for unigrams, bigrams, and trigrams\n",
    "tf_mat_unigram, idf_mat_unigram, tfidf_mat_unigram, terms_unigram = generate_tfidf_mat(1, 1)\n",
    "tf_mat_bigram, idf_mat_bigram, tfidf_mat_bigram, terms_bigram = generate_tfidf_mat(2, 2)\n",
    "tf_mat_trigram, idf_mat_trigram, tfidf_mat_trigram, terms_trigram = generate_tfidf_mat(3, 3)\n",
    "\n",
    "# Verify the presence of 'tokens' column and index resetting if necessary\n",
    "if 'tokens' in df.columns:\n",
    "    df = df.reset_index(drop=True)\n",
    "else:\n",
    "    print(\"Column 'tokens' does not exist in the DataFrame.\")\n",
    "    # Exit or raise an error if necessary\n",
    "\n",
    "# Specify the sample index to view the TF-IDF for\n",
    "idx_sample = 0\n",
    "\n",
    "# Check if idx_sample is within the range of the DataFrame\n",
    "if idx_sample < len(df):\n",
    "    print(f\"Show TFIDF sample at index {idx_sample}:\\n\")\n",
    "    print(df[\"tokens\"][idx_sample], \"\\n\")\n",
    "\n",
    "    print(\"\\t\\t\\t\", \"TF\", \"\\t\\t\", \"IDF\", \"\\t\\t\", \"TF-IDF\", \"\\t\", \"Term\\n\")\n",
    "    for i, item in enumerate(zip(tf_mat_unigram[idx_sample], idf_mat_unigram, tfidf_mat_unigram[idx_sample], terms_unigram)):\n",
    "        if item[2] != 0.0:\n",
    "            print(\n",
    "                f\"Array position {i}\\t\",\n",
    "                f\"{item[0]:.6f}\\t\",\n",
    "                f\"{item[1]:.6f}\\t\",\n",
    "                f\"{item[2]:.6f}\\t\",\n",
    "                item[3]\n",
    "            )\n",
    "else:\n",
    "    print(f\"Index {idx_sample} is out of bounds for the DataFrame.\")"
   ]
  },
  {
   "cell_type": "markdown",
   "metadata": {},
   "source": [
    "## Word2Vec"
   ]
  },
  {
   "cell_type": "code",
   "execution_count": 50,
   "metadata": {},
   "outputs": [
    {
     "name": "stdout",
     "output_type": "stream",
     "text": [
      "Requirement already satisfied: gensim in c:\\users\\irfan\\anaconda3\\lib\\site-packages (4.3.3)Note: you may need to restart the kernel to use updated packages.\n",
      "\n",
      "Requirement already satisfied: numpy<2.0,>=1.18.5 in c:\\users\\irfan\\anaconda3\\lib\\site-packages (from gensim) (1.26.4)\n",
      "Requirement already satisfied: scipy<1.14.0,>=1.7.0 in c:\\users\\irfan\\anaconda3\\lib\\site-packages (from gensim) (1.13.1)\n",
      "Requirement already satisfied: smart-open>=1.8.1 in c:\\users\\irfan\\anaconda3\\lib\\site-packages (from gensim) (5.2.1)\n"
     ]
    }
   ],
   "source": [
    "%pip install gensim"
   ]
  },
  {
   "cell_type": "code",
   "execution_count": 51,
   "metadata": {},
   "outputs": [
    {
     "name": "stderr",
     "output_type": "stream",
     "text": [
      "C:\\Users\\irfan\\AppData\\Local\\Temp\\ipykernel_39512\\3396566640.py:21: DeprecationWarning: Call to deprecated `init_sims` (Gensim 4.0.0 implemented internal optimizations that make calls to init_sims() unnecessary. init_sims() is now obsoleted and will be completely removed in future versions. See https://github.com/RaRe-Technologies/gensim/wiki/Migrating-from-Gensim-3.x-to-4).\n",
      "  model.init_sims(replace=True)\n"
     ]
    }
   ],
   "source": [
    "from gensim.models import Word2Vec\n",
    "\n",
    "# Menentukan parameter model\n",
    "num_features = 300    # Dimensi vektor kata\n",
    "min_word_count = 40   # Jumlah kata minimal\n",
    "num_workers = 4       # Jumlah thread paralel\n",
    "context = 10          # Ukuran jendela konteks\n",
    "downsampling = 1e-3   # Downsample setting untuk kata seringch\n",
    "\n",
    "# Membuat model Word2Vec\n",
    "model = Word2Vec(\n",
    "    sentences=df['tokens'],\n",
    "    vector_size=num_features,\n",
    "    workers=num_workers,\n",
    "    min_count=min_word_count,\n",
    "    window=context,\n",
    "    sample=downsampling\n",
    ")\n",
    "\n",
    "# Untuk menghemat memori\n",
    "model.init_sims(replace=True)\n",
    "\n",
    "# Menyimpan model\n",
    "model_name = \"word2vec_model\"\n",
    "model.save(model_name)"
   ]
  },
  {
   "cell_type": "code",
   "execution_count": 52,
   "metadata": {},
   "outputs": [
    {
     "name": "stdout",
     "output_type": "stream",
     "text": [
      "Kata yang tidak sesuai di antara mereka adalah: pahlawan\n"
     ]
    }
   ],
   "source": [
    "# Daftar kata yang ingin diuji\n",
    "words = [\"gim\", \"pertandingan\", \"pahlawan\", \"saya\", \"kamu\"]\n",
    "\n",
    "# Filter kata-kata yang ada di dalam vocabulary model\n",
    "filtered_words = [word for word in words if word in model.wv.key_to_index]\n",
    "\n",
    "# Mengecek apakah filtered_words tidak kosong\n",
    "if filtered_words:\n",
    "    # Menjalankan doesnt_match pada kata yang ada di dalam vocabulary\n",
    "    try:\n",
    "        odd_word = model.wv.doesnt_match(filtered_words)\n",
    "        print(\"Kata yang tidak sesuai di antara mereka adalah:\", odd_word)\n",
    "    except ValueError as e:\n",
    "        print(\"Error:\", e)\n",
    "else:\n",
    "    print(\"Tidak ada kata yang ditemukan dalam vocabulary.\")"
   ]
  },
  {
   "cell_type": "code",
   "execution_count": 53,
   "metadata": {},
   "outputs": [
    {
     "data": {
      "text/plain": [
       "[('gamenya', 0.8891186118125916),\n",
       " ('masih', 0.8827740550041199),\n",
       " ('grafik', 0.8787700533866882),\n",
       " ('tapi', 0.8405734896659851),\n",
       " ('lumayan', 0.8349968194961548),\n",
       " ('sayang', 0.8277934193611145),\n",
       " ('suka', 0.8147133588790894),\n",
       " ('gameplay', 0.7977315783500671),\n",
       " ('seru', 0.7936983108520508),\n",
       " ('nunda', 0.7917832136154175)]"
      ]
     },
     "execution_count": 53,
     "metadata": {},
     "output_type": "execute_result"
    }
   ],
   "source": [
    "# Ini akan mencetak kata-kata yang paling mirip yang ada dalam model\n",
    "model.wv.most_similar(\"bagus\")  "
   ]
  },
  {
   "cell_type": "code",
   "execution_count": 54,
   "metadata": {},
   "outputs": [
    {
     "name": "stdout",
     "output_type": "stream",
     "text": [
      "Jumlah kata dalam vocabulary: 595\n",
      "Bentuk vektor kata: (595, 300)\n"
     ]
    }
   ],
   "source": [
    "# Mendapatkan jumlah total kata dalam vocabulary\n",
    "vocab_size = len(model.wv.key_to_index)\n",
    "print(\"Jumlah kata dalam vocabulary:\", vocab_size)\n",
    "\n",
    "# Mendapatkan bentuk vektor kata\n",
    "vector_shape = model.wv.vectors.shape\n",
    "print(\"Bentuk vektor kata:\", vector_shape)"
   ]
  },
  {
   "cell_type": "code",
   "execution_count": 55,
   "metadata": {},
   "outputs": [
    {
     "data": {
      "text/plain": [
       "array([ 0.1370939 , -0.0344228 , -0.01098497, -0.02216992,  0.0530067 ,\n",
       "       -0.03267761, -0.04683815, -0.04309231,  0.02261326,  0.00481272,\n",
       "       -0.01381231, -0.06139622,  0.0438902 ,  0.11735213, -0.05155288,\n",
       "        0.04481831,  0.08531905,  0.07875542,  0.08809235, -0.00786119,\n",
       "        0.05486178, -0.09690803,  0.00981376,  0.03922327,  0.07698943,\n",
       "        0.03879714, -0.00381297, -0.08639868, -0.00789151, -0.06373165,\n",
       "        0.06346378, -0.00199194,  0.05323394,  0.10154243,  0.01639533,\n",
       "       -0.01470395, -0.10640799, -0.00029169, -0.11670841, -0.08590526,\n",
       "       -0.13239506,  0.02458027, -0.04880298,  0.05935536,  0.04435483,\n",
       "        0.10352259, -0.02989381, -0.01277725,  0.0117782 ,  0.02544906,\n",
       "       -0.00269139, -0.02446142, -0.01723587,  0.06973655, -0.04219672,\n",
       "        0.04696313, -0.07577752, -0.00871379, -0.03889961, -0.06430453,\n",
       "       -0.01901717, -0.02032381, -0.01174718,  0.03132771,  0.00928388,\n",
       "        0.03598304,  0.07422423, -0.10544254, -0.03744044, -0.05418749,\n",
       "       -0.02202665,  0.05543006,  0.03088896,  0.0072684 , -0.06477731,\n",
       "        0.04582612,  0.05580991,  0.07253397, -0.01696592,  0.04613955,\n",
       "       -0.01077166, -0.00966036,  0.02132017, -0.01135094,  0.08246512,\n",
       "       -0.03965842, -0.00939706,  0.04428404,  0.09320349,  0.01662258,\n",
       "        0.01550475,  0.07850751,  0.04352003,  0.04998425,  0.03572202,\n",
       "        0.03701688,  0.04081396, -0.11893748,  0.11347828,  0.0809433 ,\n",
       "        0.01841379,  0.05489009,  0.11597932,  0.04004108, -0.05570298,\n",
       "       -0.05018178,  0.14876449,  0.09026287, -0.08321263, -0.05783423,\n",
       "        0.0099155 , -0.0216028 ,  0.01357627, -0.00985305, -0.03881763,\n",
       "        0.00868609,  0.03355136, -0.04821284, -0.07787749, -0.05605739,\n",
       "        0.09762441, -0.01016779,  0.00139477, -0.02533065, -0.0686623 ,\n",
       "        0.10944804,  0.06914924,  0.01887237, -0.01257643,  0.00554086,\n",
       "       -0.01429717,  0.05183955,  0.02597052,  0.075656  ,  0.05064585,\n",
       "        0.01794537, -0.02756482, -0.02107756, -0.04266268,  0.05504323,\n",
       "        0.0690029 , -0.02259091, -0.04477015,  0.08269113,  0.07972199,\n",
       "       -0.09011584, -0.00493118, -0.02131014, -0.03859246, -0.04419533,\n",
       "       -0.06674081, -0.0705236 , -0.01404147, -0.01986184,  0.07654756,\n",
       "        0.0337642 , -0.09815555,  0.00465603, -0.08812691,  0.06434494,\n",
       "        0.0562355 ,  0.10871781, -0.03501477, -0.06582779,  0.02280587,\n",
       "        0.03963654,  0.00875455, -0.03332273, -0.00198324,  0.00552721,\n",
       "        0.03519863,  0.0168048 , -0.0413006 , -0.02636914, -0.06840447,\n",
       "        0.05891662,  0.00596897,  0.01237727,  0.04966777, -0.05335824,\n",
       "       -0.08944356, -0.00330772, -0.01249111,  0.07625016, -0.01055766,\n",
       "        0.09323543,  0.08257748,  0.06655832,  0.02577519, -0.07892879,\n",
       "       -0.01988329, -0.00805437,  0.03358456,  0.08273125, -0.02304702,\n",
       "       -0.03265189,  0.01126337, -0.00060588,  0.10997923,  0.03647308,\n",
       "       -0.04707972,  0.05430261, -0.07566134,  0.06230374,  0.04872848,\n",
       "        0.10790554, -0.05483986,  0.01477702,  0.11754867,  0.06537097,\n",
       "        0.02627585, -0.01122287,  0.0563172 , -0.02801336,  0.0036145 ,\n",
       "        0.00670244, -0.01981032,  0.01288939, -0.03667416,  0.01983087,\n",
       "        0.09300483,  0.00691489,  0.04278902, -0.0571078 , -0.02289345,\n",
       "       -0.13118777, -0.01974899, -0.10609831,  0.04319501, -0.07381751,\n",
       "        0.04943816, -0.05389817,  0.00202298, -0.0050254 , -0.01138514,\n",
       "        0.13223599, -0.04137965,  0.00665745,  0.00601652, -0.09463642,\n",
       "        0.00985546, -0.0820932 ,  0.01233693,  0.0456806 , -0.08407859,\n",
       "       -0.00217737,  0.11826883,  0.06307158, -0.06774552, -0.03814348,\n",
       "       -0.07608653,  0.08221504, -0.00825472, -0.05017991,  0.02804912,\n",
       "       -0.02415935,  0.07093126, -0.07855456,  0.05552072, -0.12435876,\n",
       "       -0.00103293,  0.01516035,  0.12203262, -0.03442746,  0.02304442,\n",
       "        0.02144598, -0.06832755, -0.0569785 , -0.05352553, -0.04088321,\n",
       "       -0.00627424,  0.06090362, -0.00208838,  0.11041741,  0.03006334,\n",
       "       -0.06022151, -0.07885921, -0.06114125, -0.03185453, -0.05725087,\n",
       "        0.00464232,  0.02807331,  0.01581807,  0.14140272,  0.07123561,\n",
       "        0.03915305, -0.05211075, -0.01730921, -0.04026357,  0.00549216,\n",
       "       -0.02334291,  0.02140423,  0.02473347,  0.02522075,  0.11454335,\n",
       "       -0.00342436, -0.1122472 , -0.01774308,  0.0205164 , -0.08424816],\n",
       "      dtype=float32)"
      ]
     },
     "execution_count": 55,
     "metadata": {},
     "output_type": "execute_result"
    }
   ],
   "source": [
    "model.wv['saya']"
   ]
  }
 ],
 "metadata": {
  "colab": {
   "provenance": []
  },
  "kernelspec": {
   "display_name": "base",
   "language": "python",
   "name": "python3"
  },
  "language_info": {
   "codemirror_mode": {
    "name": "ipython",
    "version": 3
   },
   "file_extension": ".py",
   "mimetype": "text/x-python",
   "name": "python",
   "nbconvert_exporter": "python",
   "pygments_lexer": "ipython3",
   "version": "3.12.4"
  }
 },
 "nbformat": 4,
 "nbformat_minor": 0
}
